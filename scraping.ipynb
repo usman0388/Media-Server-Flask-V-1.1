{
 "metadata": {
  "language_info": {
   "codemirror_mode": {
    "name": "ipython",
    "version": 3
   },
   "file_extension": ".py",
   "mimetype": "text/x-python",
   "name": "python",
   "nbconvert_exporter": "python",
   "pygments_lexer": "ipython3",
   "version": "3.6.7-final"
  },
  "orig_nbformat": 2,
  "kernelspec": {
   "name": "python3",
   "display_name": "Python 3.6.7 32-bit",
   "metadata": {
    "interpreter": {
     "hash": "0401e35902ad667a116bc265312156042e446f45b6df529b483ef2de89cb85a3"
    }
   }
  }
 },
 "nbformat": 4,
 "nbformat_minor": 2,
 "cells": [
  {
   "cell_type": "code",
   "execution_count": 11,
   "metadata": {},
   "outputs": [],
   "source": [
    "from control import *\n",
    "import os\n",
    "from selenium import webdriver\n",
    "from selenium.webdriver.support.select import Select\n",
    "import csv\n",
    "from urllib.error import HTTPError\n",
    "from urllib.error import URLError\n",
    "from urllib.request import urlopen\n",
    "import urllib.request as urllib\n"
   ]
  },
  {
   "cell_type": "code",
   "execution_count": 15,
   "metadata": {},
   "outputs": [],
   "source": [
    "main_link = \"https://thetvdb.com/series/my-hero-academia\"\n",
    "main_link1 = \"https://thetvdb.com/series/91-days\"\n",
    "main_link2 = \"https://thetvdb.com/series/another\"\n",
    "try:\n",
    "    driver = webdriver.Chrome(executable_path='driver/chromedriver.exe')\n",
    "    driver.get(main_link2)\n",
    "\n",
    "    title = driver.find_element_by_xpath(\"/html/body/div[3]/h1\")\n",
    "    sypnosis = driver.find_element_by_xpath(\"/html/body/div[3]/div[2]/div[1]/div[1]/div[2]/p\")\n",
    "    backgrounds = driver.find_elements_by_css_selector('.lightbox .img-responsive')\n",
    "    count = 0\n",
    "    for i in backgrounds:\n",
    "        src = i.get_attribute('src')\n",
    "\n",
    "        # download the image\n",
    "        urllib.urlretrieve(src, str(count)+\".png\")\n",
    "        count = count +1\n",
    "\n",
    "    driver.close()\n",
    "     \n",
    "except HTTPError as e:\n",
    "    print(e)\n",
    "except URLError as e:\n",
    "    print(e)\n"
   ]
  },
  {
   "cell_type": "code",
   "execution_count": 12,
   "metadata": {},
   "outputs": [
    {
     "output_type": "error",
     "ename": "TypeError",
     "evalue": "changeWidth() takes 1 positional argument but 3 were given",
     "traceback": [
      "\u001b[1;31m---------------------------------------------------------------------------\u001b[0m",
      "\u001b[1;31mTypeError\u001b[0m                                 Traceback (most recent call last)",
      "\u001b[1;32m<ipython-input-12-4aec5eb70da0>\u001b[0m in \u001b[0;36m<module>\u001b[1;34m\u001b[0m\n\u001b[1;32m----> 1\u001b[1;33m \u001b[0mchangeWidth\u001b[0m\u001b[1;33m(\u001b[0m\u001b[1;34m\"0.png\"\u001b[0m\u001b[1;33m,\u001b[0m\u001b[1;36m1920\u001b[0m\u001b[1;33m,\u001b[0m\u001b[1;36m1080\u001b[0m\u001b[1;33m)\u001b[0m\u001b[1;33m\u001b[0m\u001b[1;33m\u001b[0m\u001b[0m\n\u001b[0m",
      "\u001b[1;31mTypeError\u001b[0m: changeWidth() takes 1 positional argument but 3 were given"
     ]
    }
   ],
   "source": [
    "changeWidth(\"0.png\",1920,1080)"
   ]
  },
  {
   "cell_type": "code",
   "execution_count": null,
   "metadata": {},
   "outputs": [],
   "source": []
  }
 ]
}